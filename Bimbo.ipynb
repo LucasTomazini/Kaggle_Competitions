{
 "cells": [
  {
   "cell_type": "code",
   "execution_count": 1,
   "metadata": {},
   "outputs": [],
   "source": [
    "import pandas as pd"
   ]
  },
  {
   "cell_type": "code",
   "execution_count": 2,
   "metadata": {},
   "outputs": [],
   "source": [
    "train = pd.read_csv('train.csv')"
   ]
  },
  {
   "cell_type": "code",
   "execution_count": 3,
   "metadata": {},
   "outputs": [],
   "source": [
    "test = pd.read_csv('test.csv')"
   ]
  },
  {
   "cell_type": "code",
   "execution_count": 4,
   "metadata": {},
   "outputs": [
    {
     "data": {
      "text/html": [
       "<div>\n",
       "<style scoped>\n",
       "    .dataframe tbody tr th:only-of-type {\n",
       "        vertical-align: middle;\n",
       "    }\n",
       "\n",
       "    .dataframe tbody tr th {\n",
       "        vertical-align: top;\n",
       "    }\n",
       "\n",
       "    .dataframe thead th {\n",
       "        text-align: right;\n",
       "    }\n",
       "</style>\n",
       "<table border=\"1\" class=\"dataframe\">\n",
       "  <thead>\n",
       "    <tr style=\"text-align: right;\">\n",
       "      <th></th>\n",
       "      <th>Semana</th>\n",
       "      <th>Agencia_ID</th>\n",
       "      <th>Canal_ID</th>\n",
       "      <th>Ruta_SAK</th>\n",
       "      <th>Cliente_ID</th>\n",
       "      <th>Producto_ID</th>\n",
       "      <th>Venta_uni_hoy</th>\n",
       "      <th>Venta_hoy</th>\n",
       "      <th>Dev_uni_proxima</th>\n",
       "      <th>Dev_proxima</th>\n",
       "      <th>Demanda_uni_equil</th>\n",
       "    </tr>\n",
       "  </thead>\n",
       "  <tbody>\n",
       "    <tr>\n",
       "      <th>0</th>\n",
       "      <td>3</td>\n",
       "      <td>1110</td>\n",
       "      <td>7</td>\n",
       "      <td>3301</td>\n",
       "      <td>15766</td>\n",
       "      <td>1212</td>\n",
       "      <td>3</td>\n",
       "      <td>25.14</td>\n",
       "      <td>0</td>\n",
       "      <td>0.0</td>\n",
       "      <td>3</td>\n",
       "    </tr>\n",
       "    <tr>\n",
       "      <th>1</th>\n",
       "      <td>3</td>\n",
       "      <td>1110</td>\n",
       "      <td>7</td>\n",
       "      <td>3301</td>\n",
       "      <td>15766</td>\n",
       "      <td>1216</td>\n",
       "      <td>4</td>\n",
       "      <td>33.52</td>\n",
       "      <td>0</td>\n",
       "      <td>0.0</td>\n",
       "      <td>4</td>\n",
       "    </tr>\n",
       "    <tr>\n",
       "      <th>2</th>\n",
       "      <td>3</td>\n",
       "      <td>1110</td>\n",
       "      <td>7</td>\n",
       "      <td>3301</td>\n",
       "      <td>15766</td>\n",
       "      <td>1238</td>\n",
       "      <td>4</td>\n",
       "      <td>39.32</td>\n",
       "      <td>0</td>\n",
       "      <td>0.0</td>\n",
       "      <td>4</td>\n",
       "    </tr>\n",
       "    <tr>\n",
       "      <th>3</th>\n",
       "      <td>3</td>\n",
       "      <td>1110</td>\n",
       "      <td>7</td>\n",
       "      <td>3301</td>\n",
       "      <td>15766</td>\n",
       "      <td>1240</td>\n",
       "      <td>4</td>\n",
       "      <td>33.52</td>\n",
       "      <td>0</td>\n",
       "      <td>0.0</td>\n",
       "      <td>4</td>\n",
       "    </tr>\n",
       "    <tr>\n",
       "      <th>4</th>\n",
       "      <td>3</td>\n",
       "      <td>1110</td>\n",
       "      <td>7</td>\n",
       "      <td>3301</td>\n",
       "      <td>15766</td>\n",
       "      <td>1242</td>\n",
       "      <td>3</td>\n",
       "      <td>22.92</td>\n",
       "      <td>0</td>\n",
       "      <td>0.0</td>\n",
       "      <td>3</td>\n",
       "    </tr>\n",
       "  </tbody>\n",
       "</table>\n",
       "</div>"
      ],
      "text/plain": [
       "   Semana  Agencia_ID  Canal_ID  Ruta_SAK  Cliente_ID  Producto_ID  \\\n",
       "0       3        1110         7      3301       15766         1212   \n",
       "1       3        1110         7      3301       15766         1216   \n",
       "2       3        1110         7      3301       15766         1238   \n",
       "3       3        1110         7      3301       15766         1240   \n",
       "4       3        1110         7      3301       15766         1242   \n",
       "\n",
       "   Venta_uni_hoy  Venta_hoy  Dev_uni_proxima  Dev_proxima  Demanda_uni_equil  \n",
       "0              3      25.14                0          0.0                  3  \n",
       "1              4      33.52                0          0.0                  4  \n",
       "2              4      39.32                0          0.0                  4  \n",
       "3              4      33.52                0          0.0                  4  \n",
       "4              3      22.92                0          0.0                  3  "
      ]
     },
     "execution_count": 4,
     "metadata": {},
     "output_type": "execute_result"
    }
   ],
   "source": [
    "train.head()"
   ]
  },
  {
   "cell_type": "code",
   "execution_count": 5,
   "metadata": {},
   "outputs": [],
   "source": [
    "import numpy as np"
   ]
  },
  {
   "cell_type": "code",
   "execution_count": 6,
   "metadata": {},
   "outputs": [
    {
     "data": {
      "text/plain": [
       "(74180464, 11)"
      ]
     },
     "execution_count": 6,
     "metadata": {},
     "output_type": "execute_result"
    }
   ],
   "source": [
    "np.shape(train)"
   ]
  },
  {
   "cell_type": "code",
   "execution_count": 7,
   "metadata": {},
   "outputs": [
    {
     "data": {
      "text/plain": [
       "\"\\nIn this competition, you will forecast the demand of a product for a given week, at a particular store. \\nThe dataset you are given consists of 9 weeks of sales transactions in Mexico. Every week, \\nthere are delivery trucks that deliver products to the vendors. Each transaction consists of sales and \\nreturns. Returns are the products that are unsold and expired. The demand for a product in a certain week \\nis defined as the sales this week subtracted by the return next week.\\n\\n\\nThe train and test dataset are split based on time, as well as the public and private leaderboard dataset \\nsplit.\\n\\n\\nThings to note:\\n\\nThere may be products in the test set that don't exist in the train set. This is the expected behavior \\nof inventory data, since there are new products being sold all the time. Your model should be able to \\naccommodate this.\\nThere are duplicate Cliente_ID's in cliente_tabla, which means one Cliente_ID may have multiple \\nNombreCliente that are very similar. This is due to the NombreCliente being noisy and not standardized \\nin the raw data, so it is up to you to decide how to clean up and use this information. \\nThe adjusted demand (Demanda_uni_equil) is always >= 0 since demand should be either 0 or a positive value.\\nThe reason that Venta_uni_hoy - Dev_uni_proxima sometimes has negative values is that the returns records \\nsometimes carry over a few weeks.\\n\\n##########################\\nFile descriptions\\n##########################\\n\\ntrain.csv — the training set\\ntest.csv — the test set\\nsample_submission.csv — a sample submission file in the correct format\\ncliente_tabla.csv — client names (can be joined with train/test on Cliente_ID)\\nproducto_tabla.csv — product names (can be joined with train/test on Producto_ID)\\ntown_state.csv — town and state (can be joined with train/test on Agencia_ID)\\n\\n##########################\\nData fields\\n##########################\\n\\nSemana — Week number (From Thursday to Wednesday)\\nAgencia_ID — Sales Depot ID\\nCanal_ID — Sales Channel ID\\nRuta_SAK — Route ID (Several routes = Sales Depot)\\nCliente_ID — Client ID\\nNombreCliente — Client name\\nProducto_ID — Product ID\\nNombreProducto — Product Name\\nVenta_uni_hoy — Sales unit this week (integer)\\nVenta_hoy — Sales this week (unit: pesos)\\nDev_uni_proxima — Returns unit next week (integer)\\nDev_proxima — Returns next week (unit: pesos)\\nDemanda_uni_equil — Adjusted Demand (integer) (This is the target you will predict)\\n\""
      ]
     },
     "execution_count": 7,
     "metadata": {},
     "output_type": "execute_result"
    }
   ],
   "source": [
    "'''\n",
    "In this competition, you will forecast the demand of a product for a given week, at a particular store. \n",
    "The dataset you are given consists of 9 weeks of sales transactions in Mexico. Every week, \n",
    "there are delivery trucks that deliver products to the vendors. Each transaction consists of sales and \n",
    "returns. Returns are the products that are unsold and expired. The demand for a product in a certain week \n",
    "is defined as the sales this week subtracted by the return next week.\n",
    "\n",
    "\n",
    "The train and test dataset are split based on time, as well as the public and private leaderboard dataset \n",
    "split.\n",
    "\n",
    "\n",
    "Things to note:\n",
    "\n",
    "There may be products in the test set that don't exist in the train set. This is the expected behavior \n",
    "of inventory data, since there are new products being sold all the time. Your model should be able to \n",
    "accommodate this.\n",
    "There are duplicate Cliente_ID's in cliente_tabla, which means one Cliente_ID may have multiple \n",
    "NombreCliente that are very similar. This is due to the NombreCliente being noisy and not standardized \n",
    "in the raw data, so it is up to you to decide how to clean up and use this information. \n",
    "The adjusted demand (Demanda_uni_equil) is always >= 0 since demand should be either 0 or a positive value.\n",
    "The reason that Venta_uni_hoy - Dev_uni_proxima sometimes has negative values is that the returns records \n",
    "sometimes carry over a few weeks.\n",
    "\n",
    "##########################\n",
    "File descriptions\n",
    "##########################\n",
    "\n",
    "train.csv — the training set\n",
    "test.csv — the test set\n",
    "sample_submission.csv — a sample submission file in the correct format\n",
    "cliente_tabla.csv — client names (can be joined with train/test on Cliente_ID)\n",
    "producto_tabla.csv — product names (can be joined with train/test on Producto_ID)\n",
    "town_state.csv — town and state (can be joined with train/test on Agencia_ID)\n",
    "\n",
    "##########################\n",
    "Data fields\n",
    "##########################\n",
    "\n",
    "Semana — Week number (From Thursday to Wednesday)\n",
    "Agencia_ID — Sales Depot ID\n",
    "Canal_ID — Sales Channel ID\n",
    "Ruta_SAK — Route ID (Several routes = Sales Depot)\n",
    "Cliente_ID — Client ID\n",
    "NombreCliente — Client name\n",
    "Producto_ID — Product ID\n",
    "NombreProducto — Product Name\n",
    "Venta_uni_hoy — Sales unit this week (integer)\n",
    "Venta_hoy — Sales this week (unit: pesos)\n",
    "Dev_uni_proxima — Returns unit next week (integer)\n",
    "Dev_proxima — Returns next week (unit: pesos)\n",
    "Demanda_uni_equil — Adjusted Demand (integer) (This is the target you will predict)\n",
    "'''"
   ]
  },
  {
   "cell_type": "code",
   "execution_count": 8,
   "metadata": {},
   "outputs": [
    {
     "name": "stdout",
     "output_type": "stream",
     "text": [
      "<class 'pandas.core.frame.DataFrame'>\n",
      "RangeIndex: 74180464 entries, 0 to 74180463\n",
      "Data columns (total 11 columns):\n",
      " #   Column             Dtype  \n",
      "---  ------             -----  \n",
      " 0   Semana             int64  \n",
      " 1   Agencia_ID         int64  \n",
      " 2   Canal_ID           int64  \n",
      " 3   Ruta_SAK           int64  \n",
      " 4   Cliente_ID         int64  \n",
      " 5   Producto_ID        int64  \n",
      " 6   Venta_uni_hoy      int64  \n",
      " 7   Venta_hoy          float64\n",
      " 8   Dev_uni_proxima    int64  \n",
      " 9   Dev_proxima        float64\n",
      " 10  Demanda_uni_equil  int64  \n",
      "dtypes: float64(2), int64(9)\n",
      "memory usage: 6.1 GB\n"
     ]
    }
   ],
   "source": [
    "train.info()"
   ]
  },
  {
   "cell_type": "code",
   "execution_count": 9,
   "metadata": {},
   "outputs": [
    {
     "data": {
      "text/plain": [
       "Semana               0\n",
       "Agencia_ID           0\n",
       "Canal_ID             0\n",
       "Ruta_SAK             0\n",
       "Cliente_ID           0\n",
       "Producto_ID          0\n",
       "Venta_uni_hoy        0\n",
       "Venta_hoy            0\n",
       "Dev_uni_proxima      0\n",
       "Dev_proxima          0\n",
       "Demanda_uni_equil    0\n",
       "dtype: int64"
      ]
     },
     "execution_count": 9,
     "metadata": {},
     "output_type": "execute_result"
    }
   ],
   "source": [
    "train.isnull().sum()"
   ]
  },
  {
   "cell_type": "code",
   "execution_count": 10,
   "metadata": {},
   "outputs": [
    {
     "name": "stdout",
     "output_type": "stream",
     "text": [
      "Note: you may need to restart the kernel to use updated packages.Requirement already satisfied: seaborn in c:\\users\\lucas\\anaconda3\\lib\\site-packages (0.11.0)\n",
      "\n",
      "Requirement already satisfied: scipy>=1.0 in c:\\users\\lucas\\anaconda3\\lib\\site-packages (from seaborn) (1.6.3)\n",
      "Requirement already satisfied: matplotlib>=2.2 in c:\\users\\lucas\\anaconda3\\lib\\site-packages (from seaborn) (3.3.2)\n",
      "Requirement already satisfied: pandas>=0.23 in c:\\users\\lucas\\anaconda3\\lib\\site-packages (from seaborn) (1.1.3)\n",
      "Requirement already satisfied: numpy>=1.15 in c:\\users\\lucas\\anaconda3\\lib\\site-packages (from seaborn) (1.19.2)\n",
      "Requirement already satisfied: cycler>=0.10 in c:\\users\\lucas\\anaconda3\\lib\\site-packages (from matplotlib>=2.2->seaborn) (0.10.0)\n",
      "Requirement already satisfied: kiwisolver>=1.0.1 in c:\\users\\lucas\\anaconda3\\lib\\site-packages (from matplotlib>=2.2->seaborn) (1.3.0)\n",
      "Requirement already satisfied: python-dateutil>=2.1 in c:\\users\\lucas\\anaconda3\\lib\\site-packages (from matplotlib>=2.2->seaborn) (2.8.1)\n",
      "Requirement already satisfied: pyparsing!=2.0.4,!=2.1.2,!=2.1.6,>=2.0.3 in c:\\users\\lucas\\anaconda3\\lib\\site-packages (from matplotlib>=2.2->seaborn) (2.4.7)\n",
      "Requirement already satisfied: pillow>=6.2.0 in c:\\users\\lucas\\anaconda3\\lib\\site-packages (from matplotlib>=2.2->seaborn) (8.0.1)\n",
      "Requirement already satisfied: certifi>=2020.06.20 in c:\\users\\lucas\\anaconda3\\lib\\site-packages (from matplotlib>=2.2->seaborn) (2020.6.20)\n",
      "Requirement already satisfied: pytz>=2017.2 in c:\\users\\lucas\\anaconda3\\lib\\site-packages (from pandas>=0.23->seaborn) (2020.1)\n",
      "Requirement already satisfied: six in c:\\users\\lucas\\anaconda3\\lib\\site-packages (from cycler>=0.10->matplotlib>=2.2->seaborn) (1.15.0)\n"
     ]
    }
   ],
   "source": [
    "pip install seaborn"
   ]
  },
  {
   "cell_type": "code",
   "execution_count": 11,
   "metadata": {},
   "outputs": [],
   "source": [
    "import seaborn as sns"
   ]
  },
  {
   "cell_type": "code",
   "execution_count": 12,
   "metadata": {},
   "outputs": [
    {
     "name": "stdout",
     "output_type": "stream",
     "text": [
      "\n",
      "Note: you may need to restart the kernel to use updated packages.\n"
     ]
    },
    {
     "name": "stderr",
     "output_type": "stream",
     "text": [
      "\n",
      "PackagesNotFoundError: The following packages are missing from the target environment:\n",
      "  - numpy,\n",
      "  - scipy\n",
      "\n",
      "\n"
     ]
    }
   ],
   "source": [
    "conda remove --force numpy, scipy"
   ]
  },
  {
   "cell_type": "code",
   "execution_count": 13,
   "metadata": {},
   "outputs": [
    {
     "name": "stdout",
     "output_type": "stream",
     "text": [
      "Requirement already satisfied: numpy in c:\\users\\lucas\\anaconda3\\lib\\site-packages (1.19.2)\n",
      "Note: you may need to restart the kernel to use updated packages.\n"
     ]
    }
   ],
   "source": [
    "pip install numpy"
   ]
  },
  {
   "cell_type": "code",
   "execution_count": 14,
   "metadata": {},
   "outputs": [
    {
     "name": "stdout",
     "output_type": "stream",
     "text": [
      "Requirement already satisfied: scipy in c:\\users\\lucas\\anaconda3\\lib\\site-packages (1.6.3)\n",
      "Requirement already satisfied: numpy<1.23.0,>=1.16.5 in c:\\users\\lucas\\anaconda3\\lib\\site-packages (from scipy) (1.19.2)\n",
      "Note: you may need to restart the kernel to use updated packages.\n"
     ]
    }
   ],
   "source": [
    "pip install scipy"
   ]
  },
  {
   "cell_type": "code",
   "execution_count": 15,
   "metadata": {},
   "outputs": [
    {
     "name": "stdout",
     "output_type": "stream",
     "text": [
      "Requirement already satisfied: seaborn in c:\\users\\lucas\\anaconda3\\lib\\site-packages (0.11.0)\n",
      "Note: you may need to restart the kernel to use updated packages.Requirement already satisfied: numpy>=1.15 in c:\\users\\lucas\\anaconda3\\lib\\site-packages (from seaborn) (1.19.2)\n",
      "Requirement already satisfied: matplotlib>=2.2 in c:\\users\\lucas\\anaconda3\\lib\\site-packages (from seaborn) (3.3.2)\n",
      "Requirement already satisfied: scipy>=1.0 in c:\\users\\lucas\\anaconda3\\lib\\site-packages (from seaborn) (1.6.3)\n",
      "Requirement already satisfied: pandas>=0.23 in c:\\users\\lucas\\anaconda3\\lib\\site-packages (from seaborn) (1.1.3)\n",
      "Requirement already satisfied: python-dateutil>=2.1 in c:\\users\\lucas\\anaconda3\\lib\\site-packages (from matplotlib>=2.2->seaborn) (2.8.1)\n",
      "Requirement already satisfied: cycler>=0.10 in c:\\users\\lucas\\anaconda3\\lib\\site-packages (from matplotlib>=2.2->seaborn) (0.10.0)\n",
      "Requirement already satisfied: pillow>=6.2.0 in c:\\users\\lucas\\anaconda3\\lib\\site-packages (from matplotlib>=2.2->seaborn) (8.0.1)\n",
      "Requirement already satisfied: certifi>=2020.06.20 in c:\\users\\lucas\\anaconda3\\lib\\site-packages (from matplotlib>=2.2->seaborn) (2020.6.20)\n",
      "Requirement already satisfied: kiwisolver>=1.0.1 in c:\\users\\lucas\\anaconda3\\lib\\site-packages (from matplotlib>=2.2->seaborn) (1.3.0)\n",
      "Requirement already satisfied: pyparsing!=2.0.4,!=2.1.2,!=2.1.6,>=2.0.3 in c:\\users\\lucas\\anaconda3\\lib\\site-packages (from matplotlib>=2.2->seaborn) (2.4.7)\n",
      "Requirement already satisfied: pytz>=2017.2 in c:\\users\\lucas\\anaconda3\\lib\\site-packages (from pandas>=0.23->seaborn) (2020.1)\n",
      "Requirement already satisfied: six>=1.5 in c:\\users\\lucas\\anaconda3\\lib\\site-packages (from python-dateutil>=2.1->matplotlib>=2.2->seaborn) (1.15.0)\n",
      "\n"
     ]
    }
   ],
   "source": [
    "pip install seaborn"
   ]
  },
  {
   "cell_type": "code",
   "execution_count": 16,
   "metadata": {},
   "outputs": [],
   "source": [
    "import seaborn as sns"
   ]
  },
  {
   "cell_type": "code",
   "execution_count": 17,
   "metadata": {},
   "outputs": [],
   "source": [
    "import matplotlib.pyplot as plt\n",
    "    \n",
    "%matplotlib inline"
   ]
  },
  {
   "cell_type": "code",
   "execution_count": null,
   "metadata": {},
   "outputs": [],
   "source": []
  }
 ],
 "metadata": {
  "kernelspec": {
   "display_name": "Python 3",
   "language": "python",
   "name": "python3"
  },
  "language_info": {
   "codemirror_mode": {
    "name": "ipython",
    "version": 3
   },
   "file_extension": ".py",
   "mimetype": "text/x-python",
   "name": "python",
   "nbconvert_exporter": "python",
   "pygments_lexer": "ipython3",
   "version": "3.8.10"
  }
 },
 "nbformat": 4,
 "nbformat_minor": 4
}
